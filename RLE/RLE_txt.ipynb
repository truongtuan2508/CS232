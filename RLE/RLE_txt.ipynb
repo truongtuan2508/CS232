{
 "cells": [
  {
   "cell_type": "code",
   "execution_count": 1,
   "metadata": {},
   "outputs": [],
   "source": [
    "import math\n",
    "import os\n",
    "import time"
   ]
  },
  {
   "cell_type": "code",
   "execution_count": 2,
   "metadata": {},
   "outputs": [],
   "source": [
    "def rle_encode(message):\n",
    "    encoded_string = \"\"\n",
    "\n",
    "    print(\"Run Length Codes\")\n",
    "    print(\"---------------------------------\")\n",
    "    print(\"Alphabet\", end = \"\\t\")\n",
    "    print(\"Frequency\")\n",
    "\n",
    "    i = 0\n",
    "    while (i <= len(message)-1):\n",
    "        count = 1\n",
    "        ch = message[i]\n",
    "        j = i\n",
    "        while (j < len(message)-1): \n",
    "            if (message[j] == message[j + 1]): \n",
    "                count = count + 1\n",
    "                j = j + 1\n",
    "            else: \n",
    "                break\n",
    "        print(ch, end = \"\\t\\t\")\n",
    "        print(str(count))\n",
    "        encoded_string = encoded_string + str(count) + ch\n",
    "        i = j + 1\n",
    "\n",
    "    beforeCompression = len(message) * 8\n",
    "    afterCompression = len(encoded_string) * 8 \n",
    "\n",
    "    print(\"\\nSpace usage before compression (in bits):\", beforeCompression, \" bits\")  \n",
    "    print(\"Space usage after compression (in bits):\",  afterCompression, \" bits\")  \n",
    "    print('Compression ratio: ', round(beforeCompression / afterCompression, 2), '\\n')\n",
    "\n",
    "    return encoded_string"
   ]
  },
  {
   "cell_type": "code",
   "execution_count": 3,
   "metadata": {},
   "outputs": [],
   "source": [
    "def rle_decode(decompressor):\n",
    "    final_str = []\n",
    "    final_strg = ''\n",
    "    final_rle = decompressor\n",
    "    char, freq = [], []\n",
    "\n",
    "    for id in range(len(final_rle)):\n",
    "        if id % 2 == 0:\n",
    "            freq.append(final_rle[id])\n",
    "        else:\n",
    "            char.append(final_rle[id])\n",
    "\n",
    "    if len(char) == len(freq):\n",
    "        for i in range(len(char)):\n",
    "            final_str.append([freq[i], char[i]])\n",
    "\n",
    "    for i in range(len(final_str)):\n",
    "        for j in range(int(final_str[i][0])):\n",
    "            final_strg = final_strg + str(final_str[i][1])\n",
    "    return final_strg"
   ]
  },
  {
   "cell_type": "code",
   "execution_count": 4,
   "metadata": {},
   "outputs": [
    {
     "name": "stdout",
     "output_type": "stream",
     "text": [
      "Run Length Codes\n",
      "---------------------------------\n",
      "Alphabet\tFrequency\n",
      "A\t\t1\n",
      "u\t\t2\n",
      "B\t\t3\n",
      "C\t\t6\n",
      "c\t\t5\n",
      "C\t\t9\n",
      "A\t\t1\n",
      "\n",
      "Space usage before compression (in bits): 216  bits\n",
      "Space usage after compression (in bits): 112  bits\n",
      "Compression ratio:  1.93 \n",
      "\n",
      "Original string:  AuuBBBCCCCCCcccccCCCCCCCCCA\n",
      "Run Length Encoding:  1A2u3B6C5c9C1A \n",
      "\n",
      "Decoded string:  AuuBBBCCCCCCcccccCCCCCCCCCA\n",
      "Run time: 0.002083301544189453 seconds\n"
     ]
    }
   ],
   "source": [
    "start_time = time.time()\n",
    "string = \"AuuBBBCCCCCCcccccCCCCCCCCCA\"  \n",
    "a = rle_encode(string)\n",
    "print(\"Original string: \", string)\n",
    "print(\"Run Length Encoding: \", a, '\\n')\n",
    "print(\"Decoded string: \", rle_decode(a))\n",
    "print(\"Run time: %s seconds\" % (time.time() - start_time))"
   ]
  }
 ],
 "metadata": {
  "interpreter": {
   "hash": "edaac5d38b41e1fd799c63949a4eaa9f0ed56bf2d7792eac3e6ba2160ef7b2e9"
  },
  "kernelspec": {
   "display_name": "Python 3.7.13 ('base')",
   "language": "python",
   "name": "python3"
  },
  "language_info": {
   "codemirror_mode": {
    "name": "ipython",
    "version": 3
   },
   "file_extension": ".py",
   "mimetype": "text/x-python",
   "name": "python",
   "nbconvert_exporter": "python",
   "pygments_lexer": "ipython3",
   "version": "3.7.13"
  },
  "orig_nbformat": 4
 },
 "nbformat": 4,
 "nbformat_minor": 2
}
